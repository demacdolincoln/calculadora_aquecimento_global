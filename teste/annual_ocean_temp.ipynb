{
 "cells": [
  {
   "cell_type": "code",
   "execution_count": 1,
   "metadata": {
    "collapsed": false
   },
   "outputs": [
    {
     "data": {
      "text/html": [
       "\n",
       "    <div class=\"bk-root\">\n",
       "        <a href=\"http://bokeh.pydata.org\" target=\"_blank\" class=\"bk-logo bk-logo-small bk-logo-notebook\"></a>\n",
       "        <span id=\"e9177791-70cc-4ede-8588-1445ae6e66d3\">Loading BokehJS ...</span>\n",
       "    </div>"
      ]
     },
     "metadata": {},
     "output_type": "display_data"
    },
    {
     "data": {
      "application/javascript": [
       "\n",
       "(function(global) {\n",
       "  function now() {\n",
       "    return new Date();\n",
       "  }\n",
       "\n",
       "  var force = true;\n",
       "\n",
       "  if (typeof (window._bokeh_onload_callbacks) === \"undefined\" || force === true) {\n",
       "    window._bokeh_onload_callbacks = [];\n",
       "    window._bokeh_is_loading = undefined;\n",
       "  }\n",
       "\n",
       "\n",
       "  \n",
       "  if (typeof (window._bokeh_timeout) === \"undefined\" || force === true) {\n",
       "    window._bokeh_timeout = Date.now() + 5000;\n",
       "    window._bokeh_failed_load = false;\n",
       "  }\n",
       "\n",
       "  var NB_LOAD_WARNING = {'data': {'text/html':\n",
       "     \"<div style='background-color: #fdd'>\\n\"+\n",
       "     \"<p>\\n\"+\n",
       "     \"BokehJS does not appear to have successfully loaded. If loading BokehJS from CDN, this \\n\"+\n",
       "     \"may be due to a slow or bad network connection. Possible fixes:\\n\"+\n",
       "     \"</p>\\n\"+\n",
       "     \"<ul>\\n\"+\n",
       "     \"<li>re-rerun `output_notebook()` to attempt to load from CDN again, or</li>\\n\"+\n",
       "     \"<li>use INLINE resources instead, as so:</li>\\n\"+\n",
       "     \"</ul>\\n\"+\n",
       "     \"<code>\\n\"+\n",
       "     \"from bokeh.resources import INLINE\\n\"+\n",
       "     \"output_notebook(resources=INLINE)\\n\"+\n",
       "     \"</code>\\n\"+\n",
       "     \"</div>\"}};\n",
       "\n",
       "  function display_loaded() {\n",
       "    if (window.Bokeh !== undefined) {\n",
       "      document.getElementById(\"e9177791-70cc-4ede-8588-1445ae6e66d3\").textContent = \"BokehJS successfully loaded.\";\n",
       "    } else if (Date.now() < window._bokeh_timeout) {\n",
       "      setTimeout(display_loaded, 100)\n",
       "    }\n",
       "  }\n",
       "\n",
       "  function run_callbacks() {\n",
       "    window._bokeh_onload_callbacks.forEach(function(callback) { callback() });\n",
       "    delete window._bokeh_onload_callbacks\n",
       "    console.info(\"Bokeh: all callbacks have finished\");\n",
       "  }\n",
       "\n",
       "  function load_libs(js_urls, callback) {\n",
       "    window._bokeh_onload_callbacks.push(callback);\n",
       "    if (window._bokeh_is_loading > 0) {\n",
       "      console.log(\"Bokeh: BokehJS is being loaded, scheduling callback at\", now());\n",
       "      return null;\n",
       "    }\n",
       "    if (js_urls == null || js_urls.length === 0) {\n",
       "      run_callbacks();\n",
       "      return null;\n",
       "    }\n",
       "    console.log(\"Bokeh: BokehJS not loaded, scheduling load and callback at\", now());\n",
       "    window._bokeh_is_loading = js_urls.length;\n",
       "    for (var i = 0; i < js_urls.length; i++) {\n",
       "      var url = js_urls[i];\n",
       "      var s = document.createElement('script');\n",
       "      s.src = url;\n",
       "      s.async = false;\n",
       "      s.onreadystatechange = s.onload = function() {\n",
       "        window._bokeh_is_loading--;\n",
       "        if (window._bokeh_is_loading === 0) {\n",
       "          console.log(\"Bokeh: all BokehJS libraries loaded\");\n",
       "          run_callbacks()\n",
       "        }\n",
       "      };\n",
       "      s.onerror = function() {\n",
       "        console.warn(\"failed to load library \" + url);\n",
       "      };\n",
       "      console.log(\"Bokeh: injecting script tag for BokehJS library: \", url);\n",
       "      document.getElementsByTagName(\"head\")[0].appendChild(s);\n",
       "    }\n",
       "  };var element = document.getElementById(\"e9177791-70cc-4ede-8588-1445ae6e66d3\");\n",
       "  if (element == null) {\n",
       "    console.log(\"Bokeh: ERROR: autoload.js configured with elementid 'e9177791-70cc-4ede-8588-1445ae6e66d3' but no matching script tag was found. \")\n",
       "    return false;\n",
       "  }\n",
       "\n",
       "  var js_urls = [\"https://cdn.pydata.org/bokeh/release/bokeh-0.12.4.min.js\", \"https://cdn.pydata.org/bokeh/release/bokeh-widgets-0.12.4.min.js\"];\n",
       "\n",
       "  var inline_js = [\n",
       "    function(Bokeh) {\n",
       "      Bokeh.set_log_level(\"info\");\n",
       "    },\n",
       "    \n",
       "    function(Bokeh) {\n",
       "      \n",
       "      document.getElementById(\"e9177791-70cc-4ede-8588-1445ae6e66d3\").textContent = \"BokehJS is loading...\";\n",
       "    },\n",
       "    function(Bokeh) {\n",
       "      console.log(\"Bokeh: injecting CSS: https://cdn.pydata.org/bokeh/release/bokeh-0.12.4.min.css\");\n",
       "      Bokeh.embed.inject_css(\"https://cdn.pydata.org/bokeh/release/bokeh-0.12.4.min.css\");\n",
       "      console.log(\"Bokeh: injecting CSS: https://cdn.pydata.org/bokeh/release/bokeh-widgets-0.12.4.min.css\");\n",
       "      Bokeh.embed.inject_css(\"https://cdn.pydata.org/bokeh/release/bokeh-widgets-0.12.4.min.css\");\n",
       "    }\n",
       "  ];\n",
       "\n",
       "  function run_inline_js() {\n",
       "    \n",
       "    if ((window.Bokeh !== undefined) || (force === true)) {\n",
       "      for (var i = 0; i < inline_js.length; i++) {\n",
       "        inline_js[i](window.Bokeh);\n",
       "      }if (force === true) {\n",
       "        display_loaded();\n",
       "      }} else if (Date.now() < window._bokeh_timeout) {\n",
       "      setTimeout(run_inline_js, 100);\n",
       "    } else if (!window._bokeh_failed_load) {\n",
       "      console.log(\"Bokeh: BokehJS failed to load within specified timeout.\");\n",
       "      window._bokeh_failed_load = true;\n",
       "    } else if (force !== true) {\n",
       "      var cell = $(document.getElementById(\"e9177791-70cc-4ede-8588-1445ae6e66d3\")).parents('.cell').data().cell;\n",
       "      cell.output_area.append_execute_result(NB_LOAD_WARNING)\n",
       "    }\n",
       "\n",
       "  }\n",
       "\n",
       "  if (window._bokeh_is_loading === 0) {\n",
       "    console.log(\"Bokeh: BokehJS loaded, going straight to plotting\");\n",
       "    run_inline_js();\n",
       "  } else {\n",
       "    load_libs(js_urls, function() {\n",
       "      console.log(\"Bokeh: BokehJS plotting callback run at\", now());\n",
       "      run_inline_js();\n",
       "    });\n",
       "  }\n",
       "}(this));"
      ]
     },
     "metadata": {},
     "output_type": "display_data"
    }
   ],
   "source": [
    "from bokeh.plotting import figure, output_notebook, show\n",
    "from bokeh.layouts import layout\n",
    "import pandas as pd\n",
    "\n",
    "output_notebook()"
   ]
  },
  {
   "cell_type": "code",
   "execution_count": 2,
   "metadata": {
    "collapsed": true
   },
   "outputs": [],
   "source": [
    "data = pd.read_csv(\"../dados/annual_ocean_temp.csv\")"
   ]
  },
  {
   "cell_type": "code",
   "execution_count": 3,
   "metadata": {
    "collapsed": false
   },
   "outputs": [
    {
     "data": {
      "text/plain": [
       "Index(['Source', 'Year', 'Mean'], dtype='object')"
      ]
     },
     "execution_count": 3,
     "metadata": {},
     "output_type": "execute_result"
    }
   ],
   "source": [
    "data.columns"
   ]
  },
  {
   "cell_type": "code",
   "execution_count": 4,
   "metadata": {
    "collapsed": false
   },
   "outputs": [],
   "source": [
    "source1 = \"GCAG\"\n",
    "source2 = \"GISTEMP\""
   ]
  },
  {
   "cell_type": "code",
   "execution_count": 5,
   "metadata": {
    "collapsed": false
   },
   "outputs": [
    {
     "data": {
      "text/html": [
       "<div style=\"display: table;\"><div style=\"display: table-row;\"><div style=\"display: table-cell;\"><b title=\"bokeh.models.renderers.GlyphRenderer\">GlyphRenderer</b>(</div><div style=\"display: table-cell;\">id&nbsp;=&nbsp;'ae048e0f-857e-44e3-a0ae-a08b52ffea4e', <span id=\"3a700c01-a5f6-4c22-97c8-80c5b3884e16\" style=\"cursor: pointer;\">&hellip;)</span></div></div><div class=\"e95a571a-a601-4e2a-9ee1-cdb45458293a\" style=\"display: none;\"><div style=\"display: table-cell;\"></div><div style=\"display: table-cell;\">data_source&nbsp;=&nbsp;ColumnDataSource(id='665f6719-12b1-465c-a8ce-0ea67387efc0', ...),</div></div><div class=\"e95a571a-a601-4e2a-9ee1-cdb45458293a\" style=\"display: none;\"><div style=\"display: table-cell;\"></div><div style=\"display: table-cell;\">glyph&nbsp;=&nbsp;Circle(id='94110173-0ab7-480c-8f60-e2b24094903b', ...),</div></div><div class=\"e95a571a-a601-4e2a-9ee1-cdb45458293a\" style=\"display: none;\"><div style=\"display: table-cell;\"></div><div style=\"display: table-cell;\">hover_glyph&nbsp;=&nbsp;None,</div></div><div class=\"e95a571a-a601-4e2a-9ee1-cdb45458293a\" style=\"display: none;\"><div style=\"display: table-cell;\"></div><div style=\"display: table-cell;\">js_callbacks&nbsp;=&nbsp;{},</div></div><div class=\"e95a571a-a601-4e2a-9ee1-cdb45458293a\" style=\"display: none;\"><div style=\"display: table-cell;\"></div><div style=\"display: table-cell;\">level&nbsp;=&nbsp;'glyph',</div></div><div class=\"e95a571a-a601-4e2a-9ee1-cdb45458293a\" style=\"display: none;\"><div style=\"display: table-cell;\"></div><div style=\"display: table-cell;\">name&nbsp;=&nbsp;None,</div></div><div class=\"e95a571a-a601-4e2a-9ee1-cdb45458293a\" style=\"display: none;\"><div style=\"display: table-cell;\"></div><div style=\"display: table-cell;\">nonselection_glyph&nbsp;=&nbsp;Circle(id='27442a04-31a7-4b8a-ac2b-a7fb857a7ef4', ...),</div></div><div class=\"e95a571a-a601-4e2a-9ee1-cdb45458293a\" style=\"display: none;\"><div style=\"display: table-cell;\"></div><div style=\"display: table-cell;\">selection_glyph&nbsp;=&nbsp;None,</div></div><div class=\"e95a571a-a601-4e2a-9ee1-cdb45458293a\" style=\"display: none;\"><div style=\"display: table-cell;\"></div><div style=\"display: table-cell;\">tags&nbsp;=&nbsp;[],</div></div><div class=\"e95a571a-a601-4e2a-9ee1-cdb45458293a\" style=\"display: none;\"><div style=\"display: table-cell;\"></div><div style=\"display: table-cell;\">visible&nbsp;=&nbsp;True,</div></div><div class=\"e95a571a-a601-4e2a-9ee1-cdb45458293a\" style=\"display: none;\"><div style=\"display: table-cell;\"></div><div style=\"display: table-cell;\">x_range_name&nbsp;=&nbsp;'default',</div></div><div class=\"e95a571a-a601-4e2a-9ee1-cdb45458293a\" style=\"display: none;\"><div style=\"display: table-cell;\"></div><div style=\"display: table-cell;\">y_range_name&nbsp;=&nbsp;'default')</div></div></div>\n",
       "<script>\n",
       "(function() {\n",
       "  var expanded = false;\n",
       "  var ellipsis = document.getElementById(\"3a700c01-a5f6-4c22-97c8-80c5b3884e16\");\n",
       "  ellipsis.addEventListener(\"click\", function() {\n",
       "    var rows = document.getElementsByClassName(\"e95a571a-a601-4e2a-9ee1-cdb45458293a\");\n",
       "    for (var i = 0; i < rows.length; i++) {\n",
       "      var el = rows[i];\n",
       "      el.style.display = expanded ? \"none\" : \"table-row\";\n",
       "    }\n",
       "    ellipsis.innerHTML = expanded ? \"&hellip;)\" : \"&lsaquo;&lsaquo;&lsaquo;\";\n",
       "    expanded = !expanded;\n",
       "  });\n",
       "})();\n",
       "</script>\n"
      ],
      "text/plain": [
       "GlyphRenderer(id='ae048e0f-857e-44e3-a0ae-a08b52ffea4e', ...)"
      ]
     },
     "execution_count": 5,
     "metadata": {},
     "output_type": "execute_result"
    }
   ],
   "source": [
    "x1 = data[data.Source==source1].Year\n",
    "y1 = data[data.Source==source1].Mean\n",
    "\n",
    "p1 = figure(plot_width=450, plot_height=300, x_axis_label = \"Year\", y_axis_label = \"Mean\", title=source1)\n",
    "p1.scatter(x1, y1, color=\"darkred\")"
   ]
  },
  {
   "cell_type": "code",
   "execution_count": 6,
   "metadata": {
    "collapsed": false
   },
   "outputs": [
    {
     "data": {
      "text/html": [
       "<div style=\"display: table;\"><div style=\"display: table-row;\"><div style=\"display: table-cell;\"><b title=\"bokeh.models.renderers.GlyphRenderer\">GlyphRenderer</b>(</div><div style=\"display: table-cell;\">id&nbsp;=&nbsp;'97a4f473-eb28-4cd4-984d-a6eb79ed6ea5', <span id=\"49d9835e-0238-4671-99e6-f0429ce47250\" style=\"cursor: pointer;\">&hellip;)</span></div></div><div class=\"2721af15-96df-4d81-bd82-91d172791c9e\" style=\"display: none;\"><div style=\"display: table-cell;\"></div><div style=\"display: table-cell;\">data_source&nbsp;=&nbsp;ColumnDataSource(id='5ddbff17-97fe-49e5-9f68-a85d69f0bf6e', ...),</div></div><div class=\"2721af15-96df-4d81-bd82-91d172791c9e\" style=\"display: none;\"><div style=\"display: table-cell;\"></div><div style=\"display: table-cell;\">glyph&nbsp;=&nbsp;Circle(id='e28c38df-7c81-422b-8339-f2abe3cddfd8', ...),</div></div><div class=\"2721af15-96df-4d81-bd82-91d172791c9e\" style=\"display: none;\"><div style=\"display: table-cell;\"></div><div style=\"display: table-cell;\">hover_glyph&nbsp;=&nbsp;None,</div></div><div class=\"2721af15-96df-4d81-bd82-91d172791c9e\" style=\"display: none;\"><div style=\"display: table-cell;\"></div><div style=\"display: table-cell;\">js_callbacks&nbsp;=&nbsp;{},</div></div><div class=\"2721af15-96df-4d81-bd82-91d172791c9e\" style=\"display: none;\"><div style=\"display: table-cell;\"></div><div style=\"display: table-cell;\">level&nbsp;=&nbsp;'glyph',</div></div><div class=\"2721af15-96df-4d81-bd82-91d172791c9e\" style=\"display: none;\"><div style=\"display: table-cell;\"></div><div style=\"display: table-cell;\">name&nbsp;=&nbsp;None,</div></div><div class=\"2721af15-96df-4d81-bd82-91d172791c9e\" style=\"display: none;\"><div style=\"display: table-cell;\"></div><div style=\"display: table-cell;\">nonselection_glyph&nbsp;=&nbsp;Circle(id='27ae5dea-bd73-4136-bfed-541173b39d3d', ...),</div></div><div class=\"2721af15-96df-4d81-bd82-91d172791c9e\" style=\"display: none;\"><div style=\"display: table-cell;\"></div><div style=\"display: table-cell;\">selection_glyph&nbsp;=&nbsp;None,</div></div><div class=\"2721af15-96df-4d81-bd82-91d172791c9e\" style=\"display: none;\"><div style=\"display: table-cell;\"></div><div style=\"display: table-cell;\">tags&nbsp;=&nbsp;[],</div></div><div class=\"2721af15-96df-4d81-bd82-91d172791c9e\" style=\"display: none;\"><div style=\"display: table-cell;\"></div><div style=\"display: table-cell;\">visible&nbsp;=&nbsp;True,</div></div><div class=\"2721af15-96df-4d81-bd82-91d172791c9e\" style=\"display: none;\"><div style=\"display: table-cell;\"></div><div style=\"display: table-cell;\">x_range_name&nbsp;=&nbsp;'default',</div></div><div class=\"2721af15-96df-4d81-bd82-91d172791c9e\" style=\"display: none;\"><div style=\"display: table-cell;\"></div><div style=\"display: table-cell;\">y_range_name&nbsp;=&nbsp;'default')</div></div></div>\n",
       "<script>\n",
       "(function() {\n",
       "  var expanded = false;\n",
       "  var ellipsis = document.getElementById(\"49d9835e-0238-4671-99e6-f0429ce47250\");\n",
       "  ellipsis.addEventListener(\"click\", function() {\n",
       "    var rows = document.getElementsByClassName(\"2721af15-96df-4d81-bd82-91d172791c9e\");\n",
       "    for (var i = 0; i < rows.length; i++) {\n",
       "      var el = rows[i];\n",
       "      el.style.display = expanded ? \"none\" : \"table-row\";\n",
       "    }\n",
       "    ellipsis.innerHTML = expanded ? \"&hellip;)\" : \"&lsaquo;&lsaquo;&lsaquo;\";\n",
       "    expanded = !expanded;\n",
       "  });\n",
       "})();\n",
       "</script>\n"
      ],
      "text/plain": [
       "GlyphRenderer(id='97a4f473-eb28-4cd4-984d-a6eb79ed6ea5', ...)"
      ]
     },
     "execution_count": 6,
     "metadata": {},
     "output_type": "execute_result"
    }
   ],
   "source": [
    "x2 = data[data.Source==source2].Year\n",
    "y2 = data[data.Source==source2].Mean\n",
    "\n",
    "p2 = figure(plot_width=450, plot_height=300, x_axis_label = \"Year\", y_axis_label = \"Mean\", title=source2)\n",
    "p2.scatter(x2, y2, color=\"teal\")"
   ]
  },
  {
   "cell_type": "code",
   "execution_count": 7,
   "metadata": {
    "collapsed": false
   },
   "outputs": [
    {
     "data": {
      "text/html": [
       "\n",
       "\n",
       "    <div class=\"bk-root\">\n",
       "        <div class=\"bk-plotdiv\" id=\"2649c9ef-cff2-4c1d-b53c-f04d066d7842\"></div>\n",
       "    </div>\n",
       "<script type=\"text/javascript\">\n",
       "  \n",
       "  (function(global) {\n",
       "    function now() {\n",
       "      return new Date();\n",
       "    }\n",
       "  \n",
       "    var force = false;\n",
       "  \n",
       "    if (typeof (window._bokeh_onload_callbacks) === \"undefined\" || force === true) {\n",
       "      window._bokeh_onload_callbacks = [];\n",
       "      window._bokeh_is_loading = undefined;\n",
       "    }\n",
       "  \n",
       "  \n",
       "    \n",
       "    if (typeof (window._bokeh_timeout) === \"undefined\" || force === true) {\n",
       "      window._bokeh_timeout = Date.now() + 0;\n",
       "      window._bokeh_failed_load = false;\n",
       "    }\n",
       "  \n",
       "    var NB_LOAD_WARNING = {'data': {'text/html':\n",
       "       \"<div style='background-color: #fdd'>\\n\"+\n",
       "       \"<p>\\n\"+\n",
       "       \"BokehJS does not appear to have successfully loaded. If loading BokehJS from CDN, this \\n\"+\n",
       "       \"may be due to a slow or bad network connection. Possible fixes:\\n\"+\n",
       "       \"</p>\\n\"+\n",
       "       \"<ul>\\n\"+\n",
       "       \"<li>re-rerun `output_notebook()` to attempt to load from CDN again, or</li>\\n\"+\n",
       "       \"<li>use INLINE resources instead, as so:</li>\\n\"+\n",
       "       \"</ul>\\n\"+\n",
       "       \"<code>\\n\"+\n",
       "       \"from bokeh.resources import INLINE\\n\"+\n",
       "       \"output_notebook(resources=INLINE)\\n\"+\n",
       "       \"</code>\\n\"+\n",
       "       \"</div>\"}};\n",
       "  \n",
       "    function display_loaded() {\n",
       "      if (window.Bokeh !== undefined) {\n",
       "        document.getElementById(\"2649c9ef-cff2-4c1d-b53c-f04d066d7842\").textContent = \"BokehJS successfully loaded.\";\n",
       "      } else if (Date.now() < window._bokeh_timeout) {\n",
       "        setTimeout(display_loaded, 100)\n",
       "      }\n",
       "    }\n",
       "  \n",
       "    function run_callbacks() {\n",
       "      window._bokeh_onload_callbacks.forEach(function(callback) { callback() });\n",
       "      delete window._bokeh_onload_callbacks\n",
       "      console.info(\"Bokeh: all callbacks have finished\");\n",
       "    }\n",
       "  \n",
       "    function load_libs(js_urls, callback) {\n",
       "      window._bokeh_onload_callbacks.push(callback);\n",
       "      if (window._bokeh_is_loading > 0) {\n",
       "        console.log(\"Bokeh: BokehJS is being loaded, scheduling callback at\", now());\n",
       "        return null;\n",
       "      }\n",
       "      if (js_urls == null || js_urls.length === 0) {\n",
       "        run_callbacks();\n",
       "        return null;\n",
       "      }\n",
       "      console.log(\"Bokeh: BokehJS not loaded, scheduling load and callback at\", now());\n",
       "      window._bokeh_is_loading = js_urls.length;\n",
       "      for (var i = 0; i < js_urls.length; i++) {\n",
       "        var url = js_urls[i];\n",
       "        var s = document.createElement('script');\n",
       "        s.src = url;\n",
       "        s.async = false;\n",
       "        s.onreadystatechange = s.onload = function() {\n",
       "          window._bokeh_is_loading--;\n",
       "          if (window._bokeh_is_loading === 0) {\n",
       "            console.log(\"Bokeh: all BokehJS libraries loaded\");\n",
       "            run_callbacks()\n",
       "          }\n",
       "        };\n",
       "        s.onerror = function() {\n",
       "          console.warn(\"failed to load library \" + url);\n",
       "        };\n",
       "        console.log(\"Bokeh: injecting script tag for BokehJS library: \", url);\n",
       "        document.getElementsByTagName(\"head\")[0].appendChild(s);\n",
       "      }\n",
       "    };var element = document.getElementById(\"2649c9ef-cff2-4c1d-b53c-f04d066d7842\");\n",
       "    if (element == null) {\n",
       "      console.log(\"Bokeh: ERROR: autoload.js configured with elementid '2649c9ef-cff2-4c1d-b53c-f04d066d7842' but no matching script tag was found. \")\n",
       "      return false;\n",
       "    }\n",
       "  \n",
       "    var js_urls = [];\n",
       "  \n",
       "    var inline_js = [\n",
       "      function(Bokeh) {\n",
       "        (function() {\n",
       "          var fn = function() {\n",
       "            var docs_json = {\"7eb562e6-5fde-4755-a644-802f0baf61be\":{\"roots\":{\"references\":[{\"attributes\":{\"below\":[{\"id\":\"07c86f9c-43cc-4af3-8d56-0aba05055905\",\"type\":\"LinearAxis\"}],\"left\":[{\"id\":\"8e065864-d772-4ef4-9550-e8b2092a2209\",\"type\":\"LinearAxis\"}],\"plot_height\":300,\"plot_width\":450,\"renderers\":[{\"id\":\"07c86f9c-43cc-4af3-8d56-0aba05055905\",\"type\":\"LinearAxis\"},{\"id\":\"f3719a30-d6c7-4698-b420-6df2dd15ef79\",\"type\":\"Grid\"},{\"id\":\"8e065864-d772-4ef4-9550-e8b2092a2209\",\"type\":\"LinearAxis\"},{\"id\":\"bd395765-93c6-491a-85cd-1d17a33f2685\",\"type\":\"Grid\"},{\"id\":\"283bf438-e7bb-4cc7-8d24-7bff4a6c50b1\",\"type\":\"BoxAnnotation\"},{\"id\":\"ae048e0f-857e-44e3-a0ae-a08b52ffea4e\",\"type\":\"GlyphRenderer\"}],\"title\":{\"id\":\"82b8d3a0-2adf-42a8-8711-0ca34e86cfbc\",\"type\":\"Title\"},\"tool_events\":{\"id\":\"c1b7b428-bf24-4bc2-a9bc-5f5b96854e1f\",\"type\":\"ToolEvents\"},\"toolbar\":{\"id\":\"52693cad-cfa6-47e8-9ad4-b1cb44e2f65b\",\"type\":\"Toolbar\"},\"x_range\":{\"id\":\"4fc7272d-43bb-41aa-a662-62efdccc510f\",\"type\":\"DataRange1d\"},\"y_range\":{\"id\":\"b28ba027-150f-4156-b316-b7e79189567f\",\"type\":\"DataRange1d\"}},\"id\":\"ddb2e3e9-8446-408b-b931-4ac69a88348a\",\"subtype\":\"Figure\",\"type\":\"Plot\"},{\"attributes\":{\"data_source\":{\"id\":\"665f6719-12b1-465c-a8ce-0ea67387efc0\",\"type\":\"ColumnDataSource\"},\"glyph\":{\"id\":\"94110173-0ab7-480c-8f60-e2b24094903b\",\"type\":\"Circle\"},\"hover_glyph\":null,\"nonselection_glyph\":{\"id\":\"27442a04-31a7-4b8a-ac2b-a7fb857a7ef4\",\"type\":\"Circle\"},\"selection_glyph\":null},\"id\":\"ae048e0f-857e-44e3-a0ae-a08b52ffea4e\",\"type\":\"GlyphRenderer\"},{\"attributes\":{\"callback\":null,\"column_names\":[\"x\",\"y\"],\"data\":{\"x\":[2016,2015,2014,2013,2012,2011,2010,2009,2008,2007,2006,2005,2004,2003,2002,2001,2000,1999,1998,1997,1996,1995,1994,1993,1992,1991,1990,1989,1988,1987,1986,1985,1984,1983,1982,1981,1980,1979,1978,1977,1976,1975,1974,1973,1972,1971,1970,1969,1968,1967,1966,1965,1964,1963,1962,1961,1960,1959,1958,1957,1956,1955,1954,1953,1952,1951,1950,1949,1948,1947,1946,1945,1944,1943,1942,1941,1940,1939,1938,1937,1936,1935,1934,1933,1932,1931,1930,1929,1928,1927,1926,1925,1924,1923,1922,1921,1920,1919,1918,1917,1916,1915,1914,1913,1912,1911,1910,1909,1908,1907,1906,1905,1904,1903,1902,1901,1900,1899,1898,1897,1896,1895,1894,1893,1892,1891,1890,1889,1888,1887,1886,1885,1884,1883,1882,1881,1880],\"y\":{\"__ndarray__\":\"Z9Xnaiv27T8JG55eKcvsP78OnDOitOc/5fIf0m9f5T8rhxbZzvfjP/aX3ZOHheI/xEKtad5x5j9Wn6ut2F/kPxB6Nqs+V+E/hetRuB6F4z+amZmZmZnjP99PjZduEuU/jNtoAG+B4j+MuWsJ+aDjP4MvTKYKRuM/wTkjSnuD4T9miGNd3EbbP0i/fR04Z9w/BaOSOgFN5D8p7Q2+MJngP/CFyVTBqNQ/0ETY8PRK3T+oNc07TtHVP4ofY+5aQtI/ak3zjlN00D/ByqFFtvPZP/tcbcX+sts/NV66SQwC0z9d3EYDeAvYP52AJsKGp9c/T6+UZYhjzT8FxY8xdy3BP99PjZduEsM/MZkqGJXU1T8IrBxaZDvHP2+BBMWPMdM//yH99nXg0D8OvjCZKhjNP6s+V1uxv7w/4QuTqYJRyT/129eBc0a0v18HzhlR2ms/KxiV1Alosr9TBaOSOgHFP0YldQKaCJs/XdxGA3gLtL/OiNLe4AujP/FjzF1LyLc/rK3YX3ZPnr/A7J48LNSKv5EPejarPpe/K4cW2c73s7+JQWDl0CLDvxB6Nqs+V7s/QYLix5i7tj/Xo3A9CtezP4iFWtO845Q/MuauJeSDrj/VeOkmMQi8PwfwFkhQ/Kg/Rrbz/dR4yb9pb/CFyVTBv23n+6nx0r2/dEaU9gZfuD8TYcPTK2WZP0YldQKaCIu/AU2EDU+vxL+GWtO84xStv+VhodY076i/ldQJaCJsqL/8qfHSTWJwvxfZzvdT48U/BTQRNjy90j9/arx0kxjEP3L5D+m3r8M/SgwCK4cWyT8gY+5aQj64P/KwUGuad4y/kst/SL99nb8yVTAqqROQv2TMXUvIB72/qDXNO07Rwb+WQ4ts5/u5v4BIv30dOM+/nzws1Jrmvb8Ab4EExY+xv8zuycNCrbm/tMh2vp8a078wuycPC7XGv7UV+8vuycO/waikTkATsb8U0ETY8PTCv4qO5PIf0s+/uECC4seYy7+Sy39Iv33NvzVeukkMAsO/i2zn+6nxyr/n+6nx0k3Kv1tCPujZrMq/GJXUCWgi1L+Nl24Sg8DSv3bgnBGlvbG/QmDl0CLbwb9bsb/snjzUv+wvuycPC9W/CyQofoy527/kFB3J5T/Yv6HWNO84Rdu/GJXUCWgi3L9HcvkP6bfXv09AE2HD08u/UkmdgCbC0r9IUPwYc9favwBvgQTFj9W/SZ2AJsKGz7/67evAOSPCv4v9ZffkYbG/8x/Sb18Hvr9B8WPMXUvQv0vIBz2bVb+/5WGh1jTvuL8dWmQ730/Nvw3gLZCg+NG/rWnecYqO1L+4QILix5jTv4Y41sVtNNC/z/dT46Wb1L9rmnecoiO5v8Dsnjws1MK/JLn8h/Tbz78zxLEubqPJvzMzMzMzM8u/ZRniWBe3yb+1pnnHKTrCv4Lix5i7lrC/MlUwKqkTsL9Pr5RliGO9vw==\",\"dtype\":\"float64\",\"shape\":[137]}}},\"id\":\"665f6719-12b1-465c-a8ce-0ea67387efc0\",\"type\":\"ColumnDataSource\"},{\"attributes\":{\"plot\":null,\"text\":\"GCAG\"},\"id\":\"82b8d3a0-2adf-42a8-8711-0ca34e86cfbc\",\"type\":\"Title\"},{\"attributes\":{\"callback\":null},\"id\":\"4fc7272d-43bb-41aa-a662-62efdccc510f\",\"type\":\"DataRange1d\"},{\"attributes\":{\"fill_alpha\":{\"value\":0.1},\"fill_color\":{\"value\":\"#1f77b4\"},\"line_alpha\":{\"value\":0.1},\"line_color\":{\"value\":\"#1f77b4\"},\"x\":{\"field\":\"x\"},\"y\":{\"field\":\"y\"}},\"id\":\"27442a04-31a7-4b8a-ac2b-a7fb857a7ef4\",\"type\":\"Circle\"},{\"attributes\":{},\"id\":\"c1b7b428-bf24-4bc2-a9bc-5f5b96854e1f\",\"type\":\"ToolEvents\"},{\"attributes\":{\"active_drag\":\"auto\",\"active_scroll\":\"auto\",\"active_tap\":\"auto\",\"tools\":[{\"id\":\"b1c2fd9f-dcaa-428e-aa41-478432f5693b\",\"type\":\"PanTool\"},{\"id\":\"f8ad2a99-2199-4d7e-aa56-a4c681870f73\",\"type\":\"WheelZoomTool\"},{\"id\":\"83e545bf-88ee-43e3-8e19-283fd2e0cdc1\",\"type\":\"BoxZoomTool\"},{\"id\":\"7e26388f-00ce-48db-b984-a4e031868743\",\"type\":\"SaveTool\"},{\"id\":\"bd7892be-0b1e-4b34-b41b-612fadf93a71\",\"type\":\"ResetTool\"},{\"id\":\"47572209-f24e-4d67-a429-5a06d2de4868\",\"type\":\"HelpTool\"}]},\"id\":\"52693cad-cfa6-47e8-9ad4-b1cb44e2f65b\",\"type\":\"Toolbar\"},{\"attributes\":{\"plot\":{\"id\":\"ddb2e3e9-8446-408b-b931-4ac69a88348a\",\"subtype\":\"Figure\",\"type\":\"Plot\"},\"ticker\":{\"id\":\"aeee649c-c8f8-49d1-bcf4-8b3780fe9ca5\",\"type\":\"BasicTicker\"}},\"id\":\"f3719a30-d6c7-4698-b420-6df2dd15ef79\",\"type\":\"Grid\"},{\"attributes\":{\"axis_label\":\"Year\",\"formatter\":{\"id\":\"015e3ed0-ad84-4d51-a2d7-a3669f9bb9d3\",\"type\":\"BasicTickFormatter\"},\"plot\":{\"id\":\"ddb2e3e9-8446-408b-b931-4ac69a88348a\",\"subtype\":\"Figure\",\"type\":\"Plot\"},\"ticker\":{\"id\":\"aeee649c-c8f8-49d1-bcf4-8b3780fe9ca5\",\"type\":\"BasicTicker\"}},\"id\":\"07c86f9c-43cc-4af3-8d56-0aba05055905\",\"type\":\"LinearAxis\"},{\"attributes\":{\"callback\":null},\"id\":\"b28ba027-150f-4156-b316-b7e79189567f\",\"type\":\"DataRange1d\"},{\"attributes\":{},\"id\":\"aeee649c-c8f8-49d1-bcf4-8b3780fe9ca5\",\"type\":\"BasicTicker\"},{\"attributes\":{\"axis_label\":\"Mean\",\"formatter\":{\"id\":\"9e95c610-f80d-4217-aa16-f3679c43841d\",\"type\":\"BasicTickFormatter\"},\"plot\":{\"id\":\"ddb2e3e9-8446-408b-b931-4ac69a88348a\",\"subtype\":\"Figure\",\"type\":\"Plot\"},\"ticker\":{\"id\":\"e0692fe6-314d-44b2-9315-647d340f3779\",\"type\":\"BasicTicker\"}},\"id\":\"8e065864-d772-4ef4-9550-e8b2092a2209\",\"type\":\"LinearAxis\"},{\"attributes\":{},\"id\":\"e0692fe6-314d-44b2-9315-647d340f3779\",\"type\":\"BasicTicker\"},{\"attributes\":{\"dimension\":1,\"plot\":{\"id\":\"ddb2e3e9-8446-408b-b931-4ac69a88348a\",\"subtype\":\"Figure\",\"type\":\"Plot\"},\"ticker\":{\"id\":\"e0692fe6-314d-44b2-9315-647d340f3779\",\"type\":\"BasicTicker\"}},\"id\":\"bd395765-93c6-491a-85cd-1d17a33f2685\",\"type\":\"Grid\"},{\"attributes\":{\"bottom_units\":\"screen\",\"fill_alpha\":{\"value\":0.5},\"fill_color\":{\"value\":\"lightgrey\"},\"left_units\":\"screen\",\"level\":\"overlay\",\"line_alpha\":{\"value\":1.0},\"line_color\":{\"value\":\"black\"},\"line_dash\":[4,4],\"line_width\":{\"value\":2},\"plot\":null,\"render_mode\":\"css\",\"right_units\":\"screen\",\"top_units\":\"screen\"},\"id\":\"283bf438-e7bb-4cc7-8d24-7bff4a6c50b1\",\"type\":\"BoxAnnotation\"},{\"attributes\":{},\"id\":\"25d004c2-e1af-4816-8132-90c196442305\",\"type\":\"BasicTickFormatter\"},{\"attributes\":{\"plot\":{\"id\":\"ddb2e3e9-8446-408b-b931-4ac69a88348a\",\"subtype\":\"Figure\",\"type\":\"Plot\"}},\"id\":\"b1c2fd9f-dcaa-428e-aa41-478432f5693b\",\"type\":\"PanTool\"},{\"attributes\":{\"plot\":{\"id\":\"ddb2e3e9-8446-408b-b931-4ac69a88348a\",\"subtype\":\"Figure\",\"type\":\"Plot\"}},\"id\":\"f8ad2a99-2199-4d7e-aa56-a4c681870f73\",\"type\":\"WheelZoomTool\"},{\"attributes\":{\"overlay\":{\"id\":\"283bf438-e7bb-4cc7-8d24-7bff4a6c50b1\",\"type\":\"BoxAnnotation\"},\"plot\":{\"id\":\"ddb2e3e9-8446-408b-b931-4ac69a88348a\",\"subtype\":\"Figure\",\"type\":\"Plot\"}},\"id\":\"83e545bf-88ee-43e3-8e19-283fd2e0cdc1\",\"type\":\"BoxZoomTool\"},{\"attributes\":{\"plot\":{\"id\":\"ddb2e3e9-8446-408b-b931-4ac69a88348a\",\"subtype\":\"Figure\",\"type\":\"Plot\"}},\"id\":\"7e26388f-00ce-48db-b984-a4e031868743\",\"type\":\"SaveTool\"},{\"attributes\":{\"plot\":{\"id\":\"ddb2e3e9-8446-408b-b931-4ac69a88348a\",\"subtype\":\"Figure\",\"type\":\"Plot\"}},\"id\":\"bd7892be-0b1e-4b34-b41b-612fadf93a71\",\"type\":\"ResetTool\"},{\"attributes\":{\"plot\":{\"id\":\"ddb2e3e9-8446-408b-b931-4ac69a88348a\",\"subtype\":\"Figure\",\"type\":\"Plot\"}},\"id\":\"47572209-f24e-4d67-a429-5a06d2de4868\",\"type\":\"HelpTool\"},{\"attributes\":{\"data_source\":{\"id\":\"5ddbff17-97fe-49e5-9f68-a85d69f0bf6e\",\"type\":\"ColumnDataSource\"},\"glyph\":{\"id\":\"e28c38df-7c81-422b-8339-f2abe3cddfd8\",\"type\":\"Circle\"},\"hover_glyph\":null,\"nonselection_glyph\":{\"id\":\"27ae5dea-bd73-4136-bfed-541173b39d3d\",\"type\":\"Circle\"},\"selection_glyph\":null},\"id\":\"97a4f473-eb28-4cd4-984d-a6eb79ed6ea5\",\"type\":\"GlyphRenderer\"},{\"attributes\":{\"below\":[{\"id\":\"e3e9c76d-8754-408a-b231-d4ef84c282f7\",\"type\":\"LinearAxis\"}],\"left\":[{\"id\":\"f82865df-e6ca-484b-8b57-3b15c60c872b\",\"type\":\"LinearAxis\"}],\"plot_height\":300,\"plot_width\":450,\"renderers\":[{\"id\":\"e3e9c76d-8754-408a-b231-d4ef84c282f7\",\"type\":\"LinearAxis\"},{\"id\":\"17a209e0-4922-487c-8c3f-6ddb38ffd7fb\",\"type\":\"Grid\"},{\"id\":\"f82865df-e6ca-484b-8b57-3b15c60c872b\",\"type\":\"LinearAxis\"},{\"id\":\"223cd418-6693-4017-a104-95eded77c298\",\"type\":\"Grid\"},{\"id\":\"f4a96f4a-009a-4737-a2ab-aec760679fd5\",\"type\":\"BoxAnnotation\"},{\"id\":\"97a4f473-eb28-4cd4-984d-a6eb79ed6ea5\",\"type\":\"GlyphRenderer\"}],\"title\":{\"id\":\"8dcb041f-2d85-4fd9-ab5a-15f89927c15b\",\"type\":\"Title\"},\"tool_events\":{\"id\":\"dfb0af16-5eea-4d2b-9990-9c7415fdbd4d\",\"type\":\"ToolEvents\"},\"toolbar\":{\"id\":\"4471d07f-f3d3-4efd-af4c-16ec6ccd5bed\",\"type\":\"Toolbar\"},\"x_range\":{\"id\":\"08bcd0a8-4e75-45f4-a231-8c7b40e43f74\",\"type\":\"DataRange1d\"},\"y_range\":{\"id\":\"6483b61e-7403-4e7d-b1a0-c9c20dab5e2a\",\"type\":\"DataRange1d\"}},\"id\":\"5d583041-b9c3-4db8-a71b-fc246f8839b9\",\"subtype\":\"Figure\",\"type\":\"Plot\"},{\"attributes\":{},\"id\":\"015e3ed0-ad84-4d51-a2d7-a3669f9bb9d3\",\"type\":\"BasicTickFormatter\"},{\"attributes\":{\"callback\":null,\"column_names\":[\"x\",\"y\"],\"data\":{\"x\":[2016,2015,2014,2013,2012,2011,2010,2009,2008,2007,2006,2005,2004,2003,2002,2001,2000,1999,1998,1997,1996,1995,1994,1993,1992,1991,1990,1989,1988,1987,1986,1985,1984,1983,1982,1981,1980,1979,1978,1977,1976,1975,1974,1973,1972,1971,1970,1969,1968,1967,1966,1965,1964,1963,1962,1961,1960,1959,1958,1957,1956,1955,1954,1953,1952,1951,1950,1949,1948,1947,1946,1945,1944,1943,1942,1941,1940,1939,1938,1937,1936,1935,1934,1933,1932,1931,1930,1929,1928,1927,1926,1925,1924,1923,1922,1921,1920,1919,1918,1917,1916,1915,1914,1913,1912,1911,1910,1909,1908,1907,1906,1905,1904,1903,1902,1901,1900,1899,1898,1897,1896,1895,1894,1893,1892,1891,1890,1889,1888,1887,1886,1885,1884,1883,1882,1881,1880],\"y\":{\"__ndarray__\":\"rkfhehSu7z/Xo3A9CtfrP65H4XoUruc/zczMzMzM5D8pXI/C9SjkPzMzMzMzM+M/uB6F61G45j97FK5H4XrkP0jhehSuR+E/H4XrUbge5T8pXI/C9SjkPxSuR+F6FOY/mpmZmZmZ4T/Xo3A9CtfjPylcj8L1KOQ/mpmZmZmZ4T/hehSuR+HaP+F6FK5H4do/exSuR+F65D+4HoXrUbjeP2ZmZmZmZtY/cT0K16Nw3T97FK5H4XrUP7gehetRuM4/cT0K16NwzT+F61G4HoXbPylcj8L1KNw/j8L1KFyP0j89CtejcD3aPx+F61G4HtU/UrgehetRyD+4HoXrUbi+PzMzMzMzM8M/MzMzMzMz0z+kcD0K16PAPx+F61G4HtU/SOF6FK5H0T/D9Shcj8LFP+xRuB6F67E/CtejcD0Kxz8pXI/C9Si8v3sUrkfhepS/7FG4HoXrsb8zMzMzMzPDP3sUrkfheoQ/CtejcD0Kt797FK5H4XqUP+xRuB6F67E/7FG4HoXrsb97FK5H4XqUv5qZmZmZmam/mpmZmZmZub+amZmZmZnJv7gehetRuK4/uB6F61G4nj+amZmZmZmpP3sUrkfhepS/uB6F61G4nj/sUbgeheuxP3sUrkfheqQ/mpmZmZmZyb8zMzMzMzPDv6RwPQrXo8C/exSuR+F6tD97FK5H4XqEP+xRuB6F67G/CtejcD0Kx78K16NwPQq3vwrXo3A9Cre/mpmZmZmZqb97FK5H4Xqkv7gehetRuL4/AAAAAAAA0D+kcD0K16PAPwrXo3A9Crc/uB6F61G4vj97FK5H4Xq0P7gehetRuJ6/uB6F61G4nr+4HoXrUbievzMzMzMzM8O/mpmZmZmZyb/sUbgehevBv4/C9Shcj9K/w/UoXI/Cxb8K16NwPQq3vzMzMzMzM8O/CtejcD0K17/hehSuR+HKv+F6FK5H4cq/mpmZmZmZub/hehSuR+HKv+xRuB6F69G/uB6F61G4zr/sUbgehevRv+F6FK5H4cq/SOF6FK5H0b8pXI/C9SjMv6RwPQrXo9C/mpmZmZmZ2b/D9Shcj8LVvylcj8L1KLy/exSuR+F6xL/D9Shcj8LVv2ZmZmZmZta/KVyPwvUo3L/hehSuR+HavxSuR+F6FN6/hetRuB6F27+amZmZmZnZv3E9CtejcM2/7FG4HoXr0b8pXI/C9Sjcv2ZmZmZmZta/SOF6FK5H0b8zMzMzMzPDvwrXo3A9Cre/exSuR+F6xL/sUbgehevRvylcj8L1KLy/MzMzMzMzw7/hehSuR+HKv9ejcD0K19O/MzMzMzMz079I4XoUrkfRv7gehetRuM6/rkfhehSu17+4HoXrUbi+v5qZmZmZmcm/H4XrUbge1b/Xo3A9CtfTv3sUrkfhetS/7FG4HoXr0b/hehSuR+HKv5qZmZmZmbm/uB6F61G4vr+amZmZmZnJvw==\",\"dtype\":\"float64\",\"shape\":[137]}}},\"id\":\"5ddbff17-97fe-49e5-9f68-a85d69f0bf6e\",\"type\":\"ColumnDataSource\"},{\"attributes\":{\"children\":[{\"id\":\"ddb2e3e9-8446-408b-b931-4ac69a88348a\",\"subtype\":\"Figure\",\"type\":\"Plot\"},{\"id\":\"5d583041-b9c3-4db8-a71b-fc246f8839b9\",\"subtype\":\"Figure\",\"type\":\"Plot\"}]},\"id\":\"8259aebe-c17b-4ea7-adda-7c9dc78ec1b5\",\"type\":\"Row\"},{\"attributes\":{\"plot\":null,\"text\":\"GISTEMP\"},\"id\":\"8dcb041f-2d85-4fd9-ab5a-15f89927c15b\",\"type\":\"Title\"},{\"attributes\":{\"callback\":null},\"id\":\"08bcd0a8-4e75-45f4-a231-8c7b40e43f74\",\"type\":\"DataRange1d\"},{\"attributes\":{},\"id\":\"e348dfa8-1491-4873-a916-3905f83c023f\",\"type\":\"Row\"},{\"attributes\":{},\"id\":\"dfb0af16-5eea-4d2b-9990-9c7415fdbd4d\",\"type\":\"ToolEvents\"},{\"attributes\":{\"active_drag\":\"auto\",\"active_scroll\":\"auto\",\"active_tap\":\"auto\",\"tools\":[{\"id\":\"94fc82a1-2054-4e9a-a1bf-6875189c365d\",\"type\":\"PanTool\"},{\"id\":\"2750c7f2-911d-4831-a5c0-e9dc6bf1c3e3\",\"type\":\"WheelZoomTool\"},{\"id\":\"faf57d9c-8dc8-4c04-a8ec-ddcba0c6bbd9\",\"type\":\"BoxZoomTool\"},{\"id\":\"a2611d32-f5ba-40f1-890a-79bedacdb4f0\",\"type\":\"SaveTool\"},{\"id\":\"abe2d22d-2657-4a16-bf1f-455bad7f01a9\",\"type\":\"ResetTool\"},{\"id\":\"f598a6f0-7b3c-49af-8214-af4f6b499286\",\"type\":\"HelpTool\"}]},\"id\":\"4471d07f-f3d3-4efd-af4c-16ec6ccd5bed\",\"type\":\"Toolbar\"},{\"attributes\":{\"fill_color\":{\"value\":\"teal\"},\"line_color\":{\"value\":\"teal\"},\"x\":{\"field\":\"x\"},\"y\":{\"field\":\"y\"}},\"id\":\"e28c38df-7c81-422b-8339-f2abe3cddfd8\",\"type\":\"Circle\"},{\"attributes\":{\"axis_label\":\"Year\",\"formatter\":{\"id\":\"52cbd34c-1b6c-4ce2-9c93-cfed3c41ec5a\",\"type\":\"BasicTickFormatter\"},\"plot\":{\"id\":\"5d583041-b9c3-4db8-a71b-fc246f8839b9\",\"subtype\":\"Figure\",\"type\":\"Plot\"},\"ticker\":{\"id\":\"dcf2d826-5a0e-4f50-838c-941ae23d1dbf\",\"type\":\"BasicTicker\"}},\"id\":\"e3e9c76d-8754-408a-b231-d4ef84c282f7\",\"type\":\"LinearAxis\"},{\"attributes\":{\"callback\":null},\"id\":\"6483b61e-7403-4e7d-b1a0-c9c20dab5e2a\",\"type\":\"DataRange1d\"},{\"attributes\":{},\"id\":\"dcf2d826-5a0e-4f50-838c-941ae23d1dbf\",\"type\":\"BasicTicker\"},{\"attributes\":{\"children\":[{\"id\":\"8259aebe-c17b-4ea7-adda-7c9dc78ec1b5\",\"type\":\"Row\"},{\"id\":\"e348dfa8-1491-4873-a916-3905f83c023f\",\"type\":\"Row\"}]},\"id\":\"b38cbfe0-a400-4c4d-862e-f6f0235af593\",\"type\":\"Column\"},{\"attributes\":{\"plot\":{\"id\":\"5d583041-b9c3-4db8-a71b-fc246f8839b9\",\"subtype\":\"Figure\",\"type\":\"Plot\"},\"ticker\":{\"id\":\"dcf2d826-5a0e-4f50-838c-941ae23d1dbf\",\"type\":\"BasicTicker\"}},\"id\":\"17a209e0-4922-487c-8c3f-6ddb38ffd7fb\",\"type\":\"Grid\"},{\"attributes\":{\"axis_label\":\"Mean\",\"formatter\":{\"id\":\"25d004c2-e1af-4816-8132-90c196442305\",\"type\":\"BasicTickFormatter\"},\"plot\":{\"id\":\"5d583041-b9c3-4db8-a71b-fc246f8839b9\",\"subtype\":\"Figure\",\"type\":\"Plot\"},\"ticker\":{\"id\":\"fcd715fb-4abe-4a99-9eb9-c4ecf3da9227\",\"type\":\"BasicTicker\"}},\"id\":\"f82865df-e6ca-484b-8b57-3b15c60c872b\",\"type\":\"LinearAxis\"},{\"attributes\":{},\"id\":\"fcd715fb-4abe-4a99-9eb9-c4ecf3da9227\",\"type\":\"BasicTicker\"},{\"attributes\":{\"dimension\":1,\"plot\":{\"id\":\"5d583041-b9c3-4db8-a71b-fc246f8839b9\",\"subtype\":\"Figure\",\"type\":\"Plot\"},\"ticker\":{\"id\":\"fcd715fb-4abe-4a99-9eb9-c4ecf3da9227\",\"type\":\"BasicTicker\"}},\"id\":\"223cd418-6693-4017-a104-95eded77c298\",\"type\":\"Grid\"},{\"attributes\":{\"fill_alpha\":{\"value\":0.1},\"fill_color\":{\"value\":\"#1f77b4\"},\"line_alpha\":{\"value\":0.1},\"line_color\":{\"value\":\"#1f77b4\"},\"x\":{\"field\":\"x\"},\"y\":{\"field\":\"y\"}},\"id\":\"27ae5dea-bd73-4136-bfed-541173b39d3d\",\"type\":\"Circle\"},{\"attributes\":{\"bottom_units\":\"screen\",\"fill_alpha\":{\"value\":0.5},\"fill_color\":{\"value\":\"lightgrey\"},\"left_units\":\"screen\",\"level\":\"overlay\",\"line_alpha\":{\"value\":1.0},\"line_color\":{\"value\":\"black\"},\"line_dash\":[4,4],\"line_width\":{\"value\":2},\"plot\":null,\"render_mode\":\"css\",\"right_units\":\"screen\",\"top_units\":\"screen\"},\"id\":\"f4a96f4a-009a-4737-a2ab-aec760679fd5\",\"type\":\"BoxAnnotation\"},{\"attributes\":{\"plot\":{\"id\":\"5d583041-b9c3-4db8-a71b-fc246f8839b9\",\"subtype\":\"Figure\",\"type\":\"Plot\"}},\"id\":\"94fc82a1-2054-4e9a-a1bf-6875189c365d\",\"type\":\"PanTool\"},{\"attributes\":{},\"id\":\"52cbd34c-1b6c-4ce2-9c93-cfed3c41ec5a\",\"type\":\"BasicTickFormatter\"},{\"attributes\":{\"plot\":{\"id\":\"5d583041-b9c3-4db8-a71b-fc246f8839b9\",\"subtype\":\"Figure\",\"type\":\"Plot\"}},\"id\":\"2750c7f2-911d-4831-a5c0-e9dc6bf1c3e3\",\"type\":\"WheelZoomTool\"},{\"attributes\":{\"overlay\":{\"id\":\"f4a96f4a-009a-4737-a2ab-aec760679fd5\",\"type\":\"BoxAnnotation\"},\"plot\":{\"id\":\"5d583041-b9c3-4db8-a71b-fc246f8839b9\",\"subtype\":\"Figure\",\"type\":\"Plot\"}},\"id\":\"faf57d9c-8dc8-4c04-a8ec-ddcba0c6bbd9\",\"type\":\"BoxZoomTool\"},{\"attributes\":{\"plot\":{\"id\":\"5d583041-b9c3-4db8-a71b-fc246f8839b9\",\"subtype\":\"Figure\",\"type\":\"Plot\"}},\"id\":\"a2611d32-f5ba-40f1-890a-79bedacdb4f0\",\"type\":\"SaveTool\"},{\"attributes\":{\"plot\":{\"id\":\"5d583041-b9c3-4db8-a71b-fc246f8839b9\",\"subtype\":\"Figure\",\"type\":\"Plot\"}},\"id\":\"abe2d22d-2657-4a16-bf1f-455bad7f01a9\",\"type\":\"ResetTool\"},{\"attributes\":{\"plot\":{\"id\":\"5d583041-b9c3-4db8-a71b-fc246f8839b9\",\"subtype\":\"Figure\",\"type\":\"Plot\"}},\"id\":\"f598a6f0-7b3c-49af-8214-af4f6b499286\",\"type\":\"HelpTool\"},{\"attributes\":{},\"id\":\"9e95c610-f80d-4217-aa16-f3679c43841d\",\"type\":\"BasicTickFormatter\"},{\"attributes\":{\"fill_color\":{\"value\":\"darkred\"},\"line_color\":{\"value\":\"darkred\"},\"x\":{\"field\":\"x\"},\"y\":{\"field\":\"y\"}},\"id\":\"94110173-0ab7-480c-8f60-e2b24094903b\",\"type\":\"Circle\"}],\"root_ids\":[\"b38cbfe0-a400-4c4d-862e-f6f0235af593\"]},\"title\":\"Bokeh Application\",\"version\":\"0.12.4\"}};\n",
       "            var render_items = [{\"docid\":\"7eb562e6-5fde-4755-a644-802f0baf61be\",\"elementid\":\"2649c9ef-cff2-4c1d-b53c-f04d066d7842\",\"modelid\":\"b38cbfe0-a400-4c4d-862e-f6f0235af593\"}];\n",
       "            \n",
       "            Bokeh.embed.embed_items(docs_json, render_items);\n",
       "          };\n",
       "          if (document.readyState != \"loading\") fn();\n",
       "          else document.addEventListener(\"DOMContentLoaded\", fn);\n",
       "        })();\n",
       "      },\n",
       "      function(Bokeh) {\n",
       "      }\n",
       "    ];\n",
       "  \n",
       "    function run_inline_js() {\n",
       "      \n",
       "      if ((window.Bokeh !== undefined) || (force === true)) {\n",
       "        for (var i = 0; i < inline_js.length; i++) {\n",
       "          inline_js[i](window.Bokeh);\n",
       "        }if (force === true) {\n",
       "          display_loaded();\n",
       "        }} else if (Date.now() < window._bokeh_timeout) {\n",
       "        setTimeout(run_inline_js, 100);\n",
       "      } else if (!window._bokeh_failed_load) {\n",
       "        console.log(\"Bokeh: BokehJS failed to load within specified timeout.\");\n",
       "        window._bokeh_failed_load = true;\n",
       "      } else if (force !== true) {\n",
       "        var cell = $(document.getElementById(\"2649c9ef-cff2-4c1d-b53c-f04d066d7842\")).parents('.cell').data().cell;\n",
       "        cell.output_area.append_execute_result(NB_LOAD_WARNING)\n",
       "      }\n",
       "  \n",
       "    }\n",
       "  \n",
       "    if (window._bokeh_is_loading === 0) {\n",
       "      console.log(\"Bokeh: BokehJS loaded, going straight to plotting\");\n",
       "      run_inline_js();\n",
       "    } else {\n",
       "      load_libs(js_urls, function() {\n",
       "        console.log(\"Bokeh: BokehJS plotting callback run at\", now());\n",
       "        run_inline_js();\n",
       "      });\n",
       "    }\n",
       "  }(this));\n",
       "</script>"
      ]
     },
     "metadata": {},
     "output_type": "display_data"
    }
   ],
   "source": [
    "l = layout([p1,p2],[])\n",
    "show(l)"
   ]
  },
  {
   "cell_type": "code",
   "execution_count": 8,
   "metadata": {
    "collapsed": true
   },
   "outputs": [],
   "source": [
    "X = data.Year.values.reshape(-1, 1)\n",
    "Y = data.Mean.values.reshape(-1, 1)"
   ]
  },
  {
   "cell_type": "code",
   "execution_count": 9,
   "metadata": {
    "collapsed": false
   },
   "outputs": [
    {
     "name": "stderr",
     "output_type": "stream",
     "text": [
      "/usr/lib/python3.6/site-packages/sklearn/utils/validation.py:526: DataConversionWarning: A column-vector y was passed when a 1d array was expected. Please change the shape of y to (n_samples, ), for example using ravel().\n",
      "  y = column_or_1d(y, warn=True)\n"
     ]
    }
   ],
   "source": [
    "from sklearn.svm import SVR\n",
    "reg = SVR(kernel=\"rbf\", gamma=0.15)\n",
    "results = reg.fit(X, Y).predict(X)"
   ]
  },
  {
   "cell_type": "code",
   "execution_count": 10,
   "metadata": {
    "collapsed": false
   },
   "outputs": [
    {
     "data": {
      "text/html": [
       "\n",
       "\n",
       "    <div class=\"bk-root\">\n",
       "        <div class=\"bk-plotdiv\" id=\"956c102b-604a-405e-9f90-cd8ab9abc0f4\"></div>\n",
       "    </div>\n",
       "<script type=\"text/javascript\">\n",
       "  \n",
       "  (function(global) {\n",
       "    function now() {\n",
       "      return new Date();\n",
       "    }\n",
       "  \n",
       "    var force = false;\n",
       "  \n",
       "    if (typeof (window._bokeh_onload_callbacks) === \"undefined\" || force === true) {\n",
       "      window._bokeh_onload_callbacks = [];\n",
       "      window._bokeh_is_loading = undefined;\n",
       "    }\n",
       "  \n",
       "  \n",
       "    \n",
       "    if (typeof (window._bokeh_timeout) === \"undefined\" || force === true) {\n",
       "      window._bokeh_timeout = Date.now() + 0;\n",
       "      window._bokeh_failed_load = false;\n",
       "    }\n",
       "  \n",
       "    var NB_LOAD_WARNING = {'data': {'text/html':\n",
       "       \"<div style='background-color: #fdd'>\\n\"+\n",
       "       \"<p>\\n\"+\n",
       "       \"BokehJS does not appear to have successfully loaded. If loading BokehJS from CDN, this \\n\"+\n",
       "       \"may be due to a slow or bad network connection. Possible fixes:\\n\"+\n",
       "       \"</p>\\n\"+\n",
       "       \"<ul>\\n\"+\n",
       "       \"<li>re-rerun `output_notebook()` to attempt to load from CDN again, or</li>\\n\"+\n",
       "       \"<li>use INLINE resources instead, as so:</li>\\n\"+\n",
       "       \"</ul>\\n\"+\n",
       "       \"<code>\\n\"+\n",
       "       \"from bokeh.resources import INLINE\\n\"+\n",
       "       \"output_notebook(resources=INLINE)\\n\"+\n",
       "       \"</code>\\n\"+\n",
       "       \"</div>\"}};\n",
       "  \n",
       "    function display_loaded() {\n",
       "      if (window.Bokeh !== undefined) {\n",
       "        document.getElementById(\"956c102b-604a-405e-9f90-cd8ab9abc0f4\").textContent = \"BokehJS successfully loaded.\";\n",
       "      } else if (Date.now() < window._bokeh_timeout) {\n",
       "        setTimeout(display_loaded, 100)\n",
       "      }\n",
       "    }\n",
       "  \n",
       "    function run_callbacks() {\n",
       "      window._bokeh_onload_callbacks.forEach(function(callback) { callback() });\n",
       "      delete window._bokeh_onload_callbacks\n",
       "      console.info(\"Bokeh: all callbacks have finished\");\n",
       "    }\n",
       "  \n",
       "    function load_libs(js_urls, callback) {\n",
       "      window._bokeh_onload_callbacks.push(callback);\n",
       "      if (window._bokeh_is_loading > 0) {\n",
       "        console.log(\"Bokeh: BokehJS is being loaded, scheduling callback at\", now());\n",
       "        return null;\n",
       "      }\n",
       "      if (js_urls == null || js_urls.length === 0) {\n",
       "        run_callbacks();\n",
       "        return null;\n",
       "      }\n",
       "      console.log(\"Bokeh: BokehJS not loaded, scheduling load and callback at\", now());\n",
       "      window._bokeh_is_loading = js_urls.length;\n",
       "      for (var i = 0; i < js_urls.length; i++) {\n",
       "        var url = js_urls[i];\n",
       "        var s = document.createElement('script');\n",
       "        s.src = url;\n",
       "        s.async = false;\n",
       "        s.onreadystatechange = s.onload = function() {\n",
       "          window._bokeh_is_loading--;\n",
       "          if (window._bokeh_is_loading === 0) {\n",
       "            console.log(\"Bokeh: all BokehJS libraries loaded\");\n",
       "            run_callbacks()\n",
       "          }\n",
       "        };\n",
       "        s.onerror = function() {\n",
       "          console.warn(\"failed to load library \" + url);\n",
       "        };\n",
       "        console.log(\"Bokeh: injecting script tag for BokehJS library: \", url);\n",
       "        document.getElementsByTagName(\"head\")[0].appendChild(s);\n",
       "      }\n",
       "    };var element = document.getElementById(\"956c102b-604a-405e-9f90-cd8ab9abc0f4\");\n",
       "    if (element == null) {\n",
       "      console.log(\"Bokeh: ERROR: autoload.js configured with elementid '956c102b-604a-405e-9f90-cd8ab9abc0f4' but no matching script tag was found. \")\n",
       "      return false;\n",
       "    }\n",
       "  \n",
       "    var js_urls = [];\n",
       "  \n",
       "    var inline_js = [\n",
       "      function(Bokeh) {\n",
       "        (function() {\n",
       "          var fn = function() {\n",
       "            var docs_json = {\"451193a5-e346-44b1-9694-d4d199d12f53\":{\"roots\":{\"references\":[{\"attributes\":{\"fill_alpha\":{\"value\":0.1},\"fill_color\":{\"value\":\"#1f77b4\"},\"line_alpha\":{\"value\":0.1},\"line_color\":{\"value\":\"#1f77b4\"},\"x\":{\"field\":\"x\"},\"y\":{\"field\":\"y\"}},\"id\":\"e689016c-63e8-4612-b494-1ffcf326c36a\",\"type\":\"Circle\"},{\"attributes\":{\"below\":[{\"id\":\"117b1268-02de-4372-8867-9f3a5caedbe3\",\"type\":\"LinearAxis\"}],\"left\":[{\"id\":\"6be275cb-69f5-4561-8633-22fccc8639a3\",\"type\":\"LinearAxis\"}],\"plot_height\":300,\"plot_width\":500,\"renderers\":[{\"id\":\"117b1268-02de-4372-8867-9f3a5caedbe3\",\"type\":\"LinearAxis\"},{\"id\":\"8e34faac-7d8b-47ed-a7b4-b0bb820981fb\",\"type\":\"Grid\"},{\"id\":\"6be275cb-69f5-4561-8633-22fccc8639a3\",\"type\":\"LinearAxis\"},{\"id\":\"982dbde5-a57f-45c9-ac10-97a0f14b1a33\",\"type\":\"Grid\"},{\"id\":\"c1da6bcf-8b4a-47b1-88c9-a43e0a6c2ec9\",\"type\":\"BoxAnnotation\"},{\"id\":\"fc70aca8-a6f0-4a97-97fa-e7053980626b\",\"type\":\"GlyphRenderer\"},{\"id\":\"f1c6b257-8bb4-45f4-a589-7938f6047381\",\"type\":\"GlyphRenderer\"}],\"title\":{\"id\":\"dab827d8-5390-45e5-813d-2403f36147b7\",\"type\":\"Title\"},\"tool_events\":{\"id\":\"173fb3ec-a52c-4dfa-be13-44a66ff35142\",\"type\":\"ToolEvents\"},\"toolbar\":{\"id\":\"7c3d1692-34b8-447c-bd9b-7a2ef441a014\",\"type\":\"Toolbar\"},\"x_range\":{\"id\":\"ea9a0ddf-61b6-43d0-8646-0101e706594c\",\"type\":\"DataRange1d\"},\"y_range\":{\"id\":\"7269078c-0d3c-482d-9d06-3c54c6e711a8\",\"type\":\"DataRange1d\"}},\"id\":\"c8b430cd-d1b8-433e-944c-9350617554a1\",\"subtype\":\"Figure\",\"type\":\"Plot\"},{\"attributes\":{\"callback\":null,\"column_names\":[\"x\",\"y\"],\"data\":{\"x\":[2016,2016,2015,2015,2014,2014,2013,2013,2012,2012,2011,2011,2010,2010,2009,2009,2008,2008,2007,2007,2006,2006,2005,2005,2004,2004,2003,2003,2002,2002,2001,2001,2000,2000,1999,1999,1998,1998,1997,1997,1996,1996,1995,1995,1994,1994,1993,1993,1992,1992,1991,1991,1990,1990,1989,1989,1988,1988,1987,1987,1986,1986,1985,1985,1984,1984,1983,1983,1982,1982,1981,1981,1980,1980,1979,1979,1978,1978,1977,1977,1976,1976,1975,1975,1974,1974,1973,1973,1972,1972,1971,1971,1970,1970,1969,1969,1968,1968,1967,1967,1966,1966,1965,1965,1964,1964,1963,1963,1962,1962,1961,1961,1960,1960,1959,1959,1958,1958,1957,1957,1956,1956,1955,1955,1954,1954,1953,1953,1952,1952,1951,1951,1950,1950,1949,1949,1948,1948,1947,1947,1946,1946,1945,1945,1944,1944,1943,1943,1942,1942,1941,1941,1940,1940,1939,1939,1938,1938,1937,1937,1936,1936,1935,1935,1934,1934,1933,1933,1932,1932,1931,1931,1930,1930,1929,1929,1928,1928,1927,1927,1926,1926,1925,1925,1924,1924,1923,1923,1922,1922,1921,1921,1920,1920,1919,1919,1918,1918,1917,1917,1916,1916,1915,1915,1914,1914,1913,1913,1912,1912,1911,1911,1910,1910,1909,1909,1908,1908,1907,1907,1906,1906,1905,1905,1904,1904,1903,1903,1902,1902,1901,1901,1900,1900,1899,1899,1898,1898,1897,1897,1896,1896,1895,1895,1894,1894,1893,1893,1892,1892,1891,1891,1890,1890,1889,1889,1888,1888,1887,1887,1886,1886,1885,1885,1884,1884,1883,1883,1882,1882,1881,1881,1880,1880],\"y\":{\"__ndarray__\":\"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\",\"dtype\":\"float64\",\"shape\":[274]}}},\"id\":\"4241df51-824c-499a-8930-de55d7cfda85\",\"type\":\"ColumnDataSource\"},{\"attributes\":{\"fill_color\":{\"value\":\"#1f77b4\"},\"line_color\":{\"value\":\"#1f77b4\"},\"x\":{\"field\":\"x\"},\"y\":{\"field\":\"y\"}},\"id\":\"c0c0c946-a6c3-4dae-971d-d17f527cbe79\",\"type\":\"Circle\"},{\"attributes\":{},\"id\":\"5fd00e98-e605-47ef-9e6e-561a3dfeae2a\",\"type\":\"BasicTickFormatter\"},{\"attributes\":{\"plot\":null,\"text\":\"GCAG\"},\"id\":\"dab827d8-5390-45e5-813d-2403f36147b7\",\"type\":\"Title\"},{\"attributes\":{\"callback\":null},\"id\":\"ea9a0ddf-61b6-43d0-8646-0101e706594c\",\"type\":\"DataRange1d\"},{\"attributes\":{},\"id\":\"173fb3ec-a52c-4dfa-be13-44a66ff35142\",\"type\":\"ToolEvents\"},{\"attributes\":{\"active_drag\":\"auto\",\"active_scroll\":\"auto\",\"active_tap\":\"auto\",\"tools\":[{\"id\":\"ce460f5c-3900-4b74-b36a-8a38188aa8e9\",\"type\":\"PanTool\"},{\"id\":\"51ad897e-fc2a-41a9-baa4-3937edcf0412\",\"type\":\"WheelZoomTool\"},{\"id\":\"10404379-18ef-4255-925d-161c9ea5d5ff\",\"type\":\"BoxZoomTool\"},{\"id\":\"fedb8f85-2391-4fbe-abf6-f2b08d62296c\",\"type\":\"SaveTool\"},{\"id\":\"98a284cd-83c1-4045-8fea-3f1792799be9\",\"type\":\"ResetTool\"},{\"id\":\"4356ddc7-05b2-4dc6-a255-b8bac3cbb319\",\"type\":\"HelpTool\"}]},\"id\":\"7c3d1692-34b8-447c-bd9b-7a2ef441a014\",\"type\":\"Toolbar\"},{\"attributes\":{\"axis_label\":\"Year\",\"formatter\":{\"id\":\"5fd00e98-e605-47ef-9e6e-561a3dfeae2a\",\"type\":\"BasicTickFormatter\"},\"plot\":{\"id\":\"c8b430cd-d1b8-433e-944c-9350617554a1\",\"subtype\":\"Figure\",\"type\":\"Plot\"},\"ticker\":{\"id\":\"ced6b757-3fc1-4997-a5c8-c7d9d18e20e8\",\"type\":\"BasicTicker\"}},\"id\":\"117b1268-02de-4372-8867-9f3a5caedbe3\",\"type\":\"LinearAxis\"},{\"attributes\":{\"callback\":null},\"id\":\"7269078c-0d3c-482d-9d06-3c54c6e711a8\",\"type\":\"DataRange1d\"},{\"attributes\":{},\"id\":\"ced6b757-3fc1-4997-a5c8-c7d9d18e20e8\",\"type\":\"BasicTicker\"},{\"attributes\":{\"plot\":{\"id\":\"c8b430cd-d1b8-433e-944c-9350617554a1\",\"subtype\":\"Figure\",\"type\":\"Plot\"},\"ticker\":{\"id\":\"ced6b757-3fc1-4997-a5c8-c7d9d18e20e8\",\"type\":\"BasicTicker\"}},\"id\":\"8e34faac-7d8b-47ed-a7b4-b0bb820981fb\",\"type\":\"Grid\"},{\"attributes\":{\"axis_label\":\"Mean\",\"formatter\":{\"id\":\"c9969ee9-6cb9-48a1-ae29-d804dfd0b4f7\",\"type\":\"BasicTickFormatter\"},\"plot\":{\"id\":\"c8b430cd-d1b8-433e-944c-9350617554a1\",\"subtype\":\"Figure\",\"type\":\"Plot\"},\"ticker\":{\"id\":\"e69632a1-c252-4848-a46d-ff55b02abd79\",\"type\":\"BasicTicker\"}},\"id\":\"6be275cb-69f5-4561-8633-22fccc8639a3\",\"type\":\"LinearAxis\"},{\"attributes\":{},\"id\":\"e69632a1-c252-4848-a46d-ff55b02abd79\",\"type\":\"BasicTicker\"},{\"attributes\":{\"dimension\":1,\"plot\":{\"id\":\"c8b430cd-d1b8-433e-944c-9350617554a1\",\"subtype\":\"Figure\",\"type\":\"Plot\"},\"ticker\":{\"id\":\"e69632a1-c252-4848-a46d-ff55b02abd79\",\"type\":\"BasicTicker\"}},\"id\":\"982dbde5-a57f-45c9-ac10-97a0f14b1a33\",\"type\":\"Grid\"},{\"attributes\":{\"data_source\":{\"id\":\"4241df51-824c-499a-8930-de55d7cfda85\",\"type\":\"ColumnDataSource\"},\"glyph\":{\"id\":\"c0c0c946-a6c3-4dae-971d-d17f527cbe79\",\"type\":\"Circle\"},\"hover_glyph\":null,\"nonselection_glyph\":{\"id\":\"e689016c-63e8-4612-b494-1ffcf326c36a\",\"type\":\"Circle\"},\"selection_glyph\":null},\"id\":\"fc70aca8-a6f0-4a97-97fa-e7053980626b\",\"type\":\"GlyphRenderer\"},{\"attributes\":{\"callback\":null,\"column_names\":[\"x\",\"y\"],\"data\":{\"x\":[2016,2016,2015,2015,2014,2014,2013,2013,2012,2012,2011,2011,2010,2010,2009,2009,2008,2008,2007,2007,2006,2006,2005,2005,2004,2004,2003,2003,2002,2002,2001,2001,2000,2000,1999,1999,1998,1998,1997,1997,1996,1996,1995,1995,1994,1994,1993,1993,1992,1992,1991,1991,1990,1990,1989,1989,1988,1988,1987,1987,1986,1986,1985,1985,1984,1984,1983,1983,1982,1982,1981,1981,1980,1980,1979,1979,1978,1978,1977,1977,1976,1976,1975,1975,1974,1974,1973,1973,1972,1972,1971,1971,1970,1970,1969,1969,1968,1968,1967,1967,1966,1966,1965,1965,1964,1964,1963,1963,1962,1962,1961,1961,1960,1960,1959,1959,1958,1958,1957,1957,1956,1956,1955,1955,1954,1954,1953,1953,1952,1952,1951,1951,1950,1950,1949,1949,1948,1948,1947,1947,1946,1946,1945,1945,1944,1944,1943,1943,1942,1942,1941,1941,1940,1940,1939,1939,1938,1938,1937,1937,1936,1936,1935,1935,1934,1934,1933,1933,1932,1932,1931,1931,1930,1930,1929,1929,1928,1928,1927,1927,1926,1926,1925,1925,1924,1924,1923,1923,1922,1922,1921,1921,1920,1920,1919,1919,1918,1918,1917,1917,1916,1916,1915,1915,1914,1914,1913,1913,1912,1912,1911,1911,1910,1910,1909,1909,1908,1908,1907,1907,1906,1906,1905,1905,1904,1904,1903,1903,1902,1902,1901,1901,1900,1900,1899,1899,1898,1898,1897,1897,1896,1896,1895,1895,1894,1894,1893,1893,1892,1892,1891,1891,1890,1890,1889,1889,1888,1888,1887,1887,1886,1886,1885,1885,1884,1884,1883,1883,1882,1882,1881,1881,1880,1880],\"y\":{\"__ndarray__\":\"1JN2Lit77D/Uk3YuK3vsPxg6ruWYFOs/GDqu5ZgU6z/CJDDLfCjmP8IkMMt8KOY/CYsWBJwq4j8JixYEnCriP79mPNU8SeE/v2Y81TxJ4T/De09l1YniP8N7T2XVieI/Tdiu6uKG4z9N2K7q4objP2uHg0gXBOM/a4eDSBcE4z+0b0YDzQLiP7RvRgPNAuI/ViGHkqbp4T9WIYeSpunhPwC5gOiCjeI/ALmA6IKN4j+DyOB4HOHiP4PI4Hgc4eI/Z7fJemGV4j9nt8l6YZXiP1N5QPwi9+E/U3lA/CL34T95ZfV+4fXgP3ll9X7h9eA/vyN4N7WJ3z+/I3g3tYnfP1AImV5QHN8/UAiZXlAc3z9lkjPO/6XgP2WSM87/peA/bLKODPNE4T9sso4M80ThP9EMWckh4t8/0QxZySHi3z9ty9G4LBbbP23L0bgsFts/QP9MDgYL1z9A/0wOBgvXP5b6/sQZW9Q/lvr+xBlb1D80NwRmJB3TPzQ3BGYkHdM/bhp4wiew0z9uGnjCJ7DTP9BxyjtiGNU/0HHKO2IY1T//z9ae37vVP//P1p7fu9U/u47LyGtF1T+7jsvIa0XVP3jVhOOe2NM/eNWE457Y0z88xlddYjvRPzzGV11iO9E/Ef3GGfEozT8R/cYZ8SjNPwHfc0XmK8w/Ad9zReYrzD9onbt843POP2idu3zjc84/EcEK8+bPzj8RwQrz5s/OPyrZpEsIcs0/KtmkSwhyzT8n7Wc+yWjNPyftZz7JaM0/uRWGiJgRzT+5FYaImBHNP+LMKkpOlco/4swqSk6Vyj9VtGFX8cnFP1W0YVfxycU/0jvYgba1tz/SO9iBtrW3P7AwZgThS4S/sDBmBOFLhL8Xlpj5sxiqvxeWmPmzGKq/kHyT+Ed4YT+QfJP4R3hhP3DySdcNd7A/cPJJ1w13sD+UMZGhDbmtP5QxkaENua0/IL6QqvgZhD8gvpCq+BmEP6r/bwGrGZC/qv9vAasZkL9Y29duTvh9v1jb125O+H2/UNwWBUhecL9Q3BYFSF5wvwM9FpNUl6S/Az0Wk1SXpL9gnswWyUy7v2CezBbJTLu/rJxj6HCSwr+snGPocJLCv5yW0MznjLm/nJbQzOeMub9InE8ByKt8P0icTwHIq3w/aNT7AfwUtz9o1PsB/BS3P0WG2/gCyLo/RYbb+ALIuj8suycAJoG0Pyy7JwAmgbQ/n7rENYsSqj+fusQ1ixKqP7DfN+dLV4Q/sN8350tXhD/RXrvpTmiqv9Feu+lOaKq/4gW0u0+yub/iBbS7T7K5v1KJIVH2Pri/UokhUfY+uL+h0LILjvOmv6HQsguO86a/UGDuP/fOdL9QYO4/9850v2hXZoHsPYi/aFdmgew9iL9zIFLYu9ypv3MgUti73Km/ME+gJT1+tL8wT6AlPX60v+IR45l2zrO/4hHjmXbOs79PaCPGX2apv09oI8ZfZqm/yOvZWgVAd7/I69laBUB3vzfYl352ma4/N9iXfnaZrj8K64D3ZsPBPwrrgPdmw8E/5EwKqfuxyD/kTAqp+7HIP1hjhvnlbcg/WGOG+eVtyD+mYtopSa3CP6Zi2ilJrcI/MbXlIEWduD8xteUgRZ24P0cXPxslJ7A/Rxc/GyUnsD+LWCC8ZiumP4tYILxmK6Y/eOmg0839mD946aDTzf2YP4BpGR06IXC/gGkZHTohcL8hx1kwTWOpvyHHWTBNY6m/mJiALfXjvL+YmIAt9eO8v3TmlYSf+8W/dOaVhJ/7xb8+cEOufz/Ivz5wQ65/P8i/iw/A740Nxb+LD8DvjQ3Fv+4ftTmurcO/7h+1Oa6tw78rVcZazqHJvytVxlrOocm///DZD72h0L//8NkPvaHQv1qqw1U8i9C/WqrDVTyL0L/KA0XvhX/Jv8oDRe+Ff8m/kdismcBUw7+R2KyZwFTDv6quRq5bkMO/qq5GrluQw7+xGwTKWAjHv7EbBMpYCMe/zBeP/W+jyL/MF4/9b6PIvxRpGX6nFMe/FGkZfqcUx7949qC/MtnEv3j2oL8y2cS/YZPXDja7xb9hk9cONrvFv+LF5PrU7su/4sXk+tTuy7+ltmuk4iDSv6W2a6TiINK//t7ymWQy07/+3vKZZDLTvwzY4/9csM6/DNjj/1ywzr+UtaZsGLnFv5S1pmwYucW/TxEmhJswxr9PESaEmzDGv3J6LCnMvc6/cnosKcy9zr8Fur9XsGbTvwW6v1ewZtO/99uPFZ3B1b/3248VncHVv+HRw9GwXNe/4dHD0bBc178/SHWVCazXvz9IdZUJrNe/dFImOAS21b90UiY4BLbVvzJE+IGmMdO/MkT4gaYx07/hRw2LBx3Tv+FHDYsHHdO/NPbt24ZK1b809u3bhkrVv+TwNyLrvNW/5PA3Iuu81b+ugQHYC5HRv66BAdgLkdG/tEFzdIzCxb+0QXN0jMLFvzYNKdmlfrm/Ng0p2aV+ub/WkyO8spe5v9aTI7yyl7m/4sOTciWDwr/iw5NyJYPCv9RFaW5+BMe/1EVpbn4Ex7/92MykAUnHv/3YzKQBSce/YBpFo/RLxr9gGkWj9EvGv/yLU3tjise//ItTe2OKx79OSGxrkePKv05IbGuR48q/4h3DSO+bz7/iHcNI75vPv4c6Rz6qvtK/hzpHPqq+0r8yhhny0x3UvzKGGfLTHdS/HPThHWJN0b8c9OEdYk3Rv9vlew4Gasm/2+V7DgZqyb+7BzvLXInHv7sHO8tcice/qi/kKpVdzb+qL+QqlV3Nv0zigDOEmdC/TOKAM4SZ0L9yBOFxaQvOv3IE4XFpC86/noLOk0cRx7+egs6TRxHHv/KHGm+VzMC/8ocab5XMwL+8Dnny0WS7v7wOefLRZLu/OgTF6I/Wur86BMXoj9a6v5wZUIvrrLm/nBlQi+usub8=\",\"dtype\":\"float64\",\"shape\":[274]}}},\"id\":\"f22b1500-c737-4067-93c2-38d7a5149e99\",\"type\":\"ColumnDataSource\"},{\"attributes\":{\"bottom_units\":\"screen\",\"fill_alpha\":{\"value\":0.5},\"fill_color\":{\"value\":\"lightgrey\"},\"left_units\":\"screen\",\"level\":\"overlay\",\"line_alpha\":{\"value\":1.0},\"line_color\":{\"value\":\"black\"},\"line_dash\":[4,4],\"line_width\":{\"value\":2},\"plot\":null,\"render_mode\":\"css\",\"right_units\":\"screen\",\"top_units\":\"screen\"},\"id\":\"c1da6bcf-8b4a-47b1-88c9-a43e0a6c2ec9\",\"type\":\"BoxAnnotation\"},{\"attributes\":{\"plot\":{\"id\":\"c8b430cd-d1b8-433e-944c-9350617554a1\",\"subtype\":\"Figure\",\"type\":\"Plot\"}},\"id\":\"ce460f5c-3900-4b74-b36a-8a38188aa8e9\",\"type\":\"PanTool\"},{\"attributes\":{\"line_alpha\":{\"value\":0.1},\"line_color\":{\"value\":\"#1f77b4\"},\"line_width\":{\"value\":3},\"x\":{\"field\":\"x\"},\"y\":{\"field\":\"y\"}},\"id\":\"8163799a-97ea-4283-9c87-e57c813ebc75\",\"type\":\"Line\"},{\"attributes\":{\"plot\":{\"id\":\"c8b430cd-d1b8-433e-944c-9350617554a1\",\"subtype\":\"Figure\",\"type\":\"Plot\"}},\"id\":\"51ad897e-fc2a-41a9-baa4-3937edcf0412\",\"type\":\"WheelZoomTool\"},{\"attributes\":{\"overlay\":{\"id\":\"c1da6bcf-8b4a-47b1-88c9-a43e0a6c2ec9\",\"type\":\"BoxAnnotation\"},\"plot\":{\"id\":\"c8b430cd-d1b8-433e-944c-9350617554a1\",\"subtype\":\"Figure\",\"type\":\"Plot\"}},\"id\":\"10404379-18ef-4255-925d-161c9ea5d5ff\",\"type\":\"BoxZoomTool\"},{\"attributes\":{\"plot\":{\"id\":\"c8b430cd-d1b8-433e-944c-9350617554a1\",\"subtype\":\"Figure\",\"type\":\"Plot\"}},\"id\":\"fedb8f85-2391-4fbe-abf6-f2b08d62296c\",\"type\":\"SaveTool\"},{\"attributes\":{\"plot\":{\"id\":\"c8b430cd-d1b8-433e-944c-9350617554a1\",\"subtype\":\"Figure\",\"type\":\"Plot\"}},\"id\":\"98a284cd-83c1-4045-8fea-3f1792799be9\",\"type\":\"ResetTool\"},{\"attributes\":{\"plot\":{\"id\":\"c8b430cd-d1b8-433e-944c-9350617554a1\",\"subtype\":\"Figure\",\"type\":\"Plot\"}},\"id\":\"4356ddc7-05b2-4dc6-a255-b8bac3cbb319\",\"type\":\"HelpTool\"},{\"attributes\":{\"data_source\":{\"id\":\"f22b1500-c737-4067-93c2-38d7a5149e99\",\"type\":\"ColumnDataSource\"},\"glyph\":{\"id\":\"6caaa53b-9208-4f88-a4ab-e4996e36c533\",\"type\":\"Line\"},\"hover_glyph\":null,\"nonselection_glyph\":{\"id\":\"8163799a-97ea-4283-9c87-e57c813ebc75\",\"type\":\"Line\"},\"selection_glyph\":null},\"id\":\"f1c6b257-8bb4-45f4-a589-7938f6047381\",\"type\":\"GlyphRenderer\"},{\"attributes\":{},\"id\":\"c9969ee9-6cb9-48a1-ae29-d804dfd0b4f7\",\"type\":\"BasicTickFormatter\"},{\"attributes\":{\"line_color\":{\"value\":\"darkorange\"},\"line_width\":{\"value\":3},\"x\":{\"field\":\"x\"},\"y\":{\"field\":\"y\"}},\"id\":\"6caaa53b-9208-4f88-a4ab-e4996e36c533\",\"type\":\"Line\"}],\"root_ids\":[\"c8b430cd-d1b8-433e-944c-9350617554a1\"]},\"title\":\"Bokeh Application\",\"version\":\"0.12.4\"}};\n",
       "            var render_items = [{\"docid\":\"451193a5-e346-44b1-9694-d4d199d12f53\",\"elementid\":\"956c102b-604a-405e-9f90-cd8ab9abc0f4\",\"modelid\":\"c8b430cd-d1b8-433e-944c-9350617554a1\"}];\n",
       "            \n",
       "            Bokeh.embed.embed_items(docs_json, render_items);\n",
       "          };\n",
       "          if (document.readyState != \"loading\") fn();\n",
       "          else document.addEventListener(\"DOMContentLoaded\", fn);\n",
       "        })();\n",
       "      },\n",
       "      function(Bokeh) {\n",
       "      }\n",
       "    ];\n",
       "  \n",
       "    function run_inline_js() {\n",
       "      \n",
       "      if ((window.Bokeh !== undefined) || (force === true)) {\n",
       "        for (var i = 0; i < inline_js.length; i++) {\n",
       "          inline_js[i](window.Bokeh);\n",
       "        }if (force === true) {\n",
       "          display_loaded();\n",
       "        }} else if (Date.now() < window._bokeh_timeout) {\n",
       "        setTimeout(run_inline_js, 100);\n",
       "      } else if (!window._bokeh_failed_load) {\n",
       "        console.log(\"Bokeh: BokehJS failed to load within specified timeout.\");\n",
       "        window._bokeh_failed_load = true;\n",
       "      } else if (force !== true) {\n",
       "        var cell = $(document.getElementById(\"956c102b-604a-405e-9f90-cd8ab9abc0f4\")).parents('.cell').data().cell;\n",
       "        cell.output_area.append_execute_result(NB_LOAD_WARNING)\n",
       "      }\n",
       "  \n",
       "    }\n",
       "  \n",
       "    if (window._bokeh_is_loading === 0) {\n",
       "      console.log(\"Bokeh: BokehJS loaded, going straight to plotting\");\n",
       "      run_inline_js();\n",
       "    } else {\n",
       "      load_libs(js_urls, function() {\n",
       "        console.log(\"Bokeh: BokehJS plotting callback run at\", now());\n",
       "        run_inline_js();\n",
       "      });\n",
       "    }\n",
       "  }(this));\n",
       "</script>"
      ]
     },
     "metadata": {},
     "output_type": "display_data"
    }
   ],
   "source": [
    "p3 = figure(plot_width=500, plot_height=300, x_axis_label = \"Year\", y_axis_label = \"Mean\", title=source1)\n",
    "p3.scatter(data.Year, data.Mean)\n",
    "p3.line(data.Year, results, color=\"darkorange\", line_width=3)\n",
    "show(p3)"
   ]
  }
 ],
 "metadata": {
  "kernelspec": {
   "display_name": "Python 3",
   "language": "python",
   "name": "python3"
  },
  "language_info": {
   "codemirror_mode": {
    "name": "ipython",
    "version": 3
   },
   "file_extension": ".py",
   "mimetype": "text/x-python",
   "name": "python",
   "nbconvert_exporter": "python",
   "pygments_lexer": "ipython3",
   "version": "3.6.0"
  }
 },
 "nbformat": 4,
 "nbformat_minor": 2
}
